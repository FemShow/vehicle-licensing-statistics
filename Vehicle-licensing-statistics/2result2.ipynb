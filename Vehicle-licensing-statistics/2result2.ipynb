{
 "cells": [
  {
   "cell_type": "code",
   "execution_count": 2,
   "metadata": {},
   "outputs": [
    {
     "name": "stdout",
     "output_type": "stream",
     "text": [
      "Data processed without 'Period1' and saved to result2.csv\n"
     ]
    }
   ],
   "source": [
    "import csv\n",
    "\n",
    "# Define input and output file paths\n",
    "input_csv_file = \"/Users/femisokoya/Documents/GitHub/Vehicle-licensing-statistics/result.csv\"\n",
    "output_csv_file = \"result2.csv\"\n",
    "\n",
    "# Initialize a list to store processed rows\n",
    "processed_rows = []\n",
    "\n",
    "# Open the input CSV file for reading\n",
    "with open(input_csv_file, 'r', newline='') as input_file:\n",
    "    csv_reader = csv.DictReader(input_file)\n",
    "    \n",
    "    for row in csv_reader:\n",
    "        # Initialize new row data without 'Period1'\n",
    "        new_row = {key: row[key] for key in row if key != 'Period1'}\n",
    "        new_row['Sorn'] = ''\n",
    "        new_row['SornValue'] = ''\n",
    "        \n",
    "        if not processed_rows:\n",
    "            prev_row = row\n",
    "        else:\n",
    "            prev_row = processed_rows[-1]\n",
    "        \n",
    "        if (row['GenModel'] == prev_row['GenModel'] and\n",
    "            row['Model'] == prev_row['Model'] and\n",
    "            row['Period'] == prev_row['Period']):\n",
    "            \n",
    "            new_row['Sorn'] = 'SORN'\n",
    "            new_row['SornValue'] = row['Value']\n",
    "            \n",
    "            # Update the previous row's Sorn and SornValue\n",
    "            prev_row['Sorn'] = 'SORN'\n",
    "            prev_row['SornValue'] = row['Value']\n",
    "        else:\n",
    "            # Append the new row when it's not part of a pair\n",
    "            processed_rows.append(new_row)\n",
    "\n",
    "# Write the processed data to the output CSV file\n",
    "with open(output_csv_file, 'w', newline='') as output_file:\n",
    "    fieldnames = csv_reader.fieldnames[:-1] + ['Sorn', 'SornValue']\n",
    "    csv_writer = csv.DictWriter(output_file, fieldnames=fieldnames)\n",
    "    csv_writer.writeheader()\n",
    "    csv_writer.writerows(processed_rows)\n",
    "\n",
    "print(f\"Data processed without 'Period1' and saved to {output_csv_file}\")\n"
   ]
  },
  {
   "cell_type": "code",
   "execution_count": 7,
   "metadata": {},
   "outputs": [
    {
     "name": "stdout",
     "output_type": "stream",
     "text": [
      "Normalized data saved to /Users/femisokoya/Documents/GitHub/Vehicle-licensing-statistics/result1.csv\n"
     ]
    }
   ],
   "source": [
    "import pandas as pd\n",
    "\n",
    "# Define the input and output file paths\n",
    "input_csv_file = \"/Users/femisokoya/Documents/GitHub/Vehicle-licensing-statistics/result1.csv\"\n",
    "output_csv_file = \"/Users/femisokoya/Documents/GitHub/Vehicle-licensing-statistics/result1.csv\"\n",
    "\n",
    "# Read the CSV file into a DataFrame\n",
    "df = pd.read_csv(input_csv_file)\n",
    "\n",
    "# Normalize values in the 'GenModel' column\n",
    "df['GenModel'] = df['GenModel'].str.strip()  # Remove leading and trailing spaces\n",
    "df['GenModel'] = df['GenModel'].str.lower()  # Convert to lowercase\n",
    "df['GenModel'].replace(['FARMTRAC', 'FARMTRAC '], 'farmtrac', inplace=True)  # Normalize 'farmtrac'\n",
    "df['GenModel'].replace(['FORD', 'FORD '], 'ford', inplace=True)  # Normalize 'ford'\n",
    "df['GenModel'].replace(['HARLEY DAVIDSON', 'HARLEY-DAVIDSON','harley davidson', 'harley-davidson'], 'harley-davidson', inplace=True)  # Normalize 'harley-davidson'\n",
    "df['GenModel'].replace(['IVECO FORD', 'IVECO-FORD', 'IVECO FORD', 'IVECO-FORD', 'iveco ford', 'iveco-ford'], 'iveco-ford', inplace=True)  # Normalize 'iveco-ford'\n",
    "df['GenModel'].replace(['JCB', 'JCB '], 'jcb', inplace=True)  # Normalize 'jcb'\n",
    "df['Make'] = df['Make'].str.strip()  # Remove leading and trailing spaces\n",
    "df['Make'] = df['Make'].str.lower()  # Convert to lowercase\n",
    "df['Make'].replace(['FARMTRAC', 'FARMTRAC '], 'farmtrac', inplace=True)  # Normalize 'farmtrac'\n",
    "df['Make'].replace(['FORD', 'FORD '], 'ford', inplace=True)  # Normalize 'ford'\n",
    "df['Make'].replace(['HARLEY DAVIDSON', 'HARLEY-DAVIDSON', 'harley davidson', 'harley-davidson'], 'harley-davidson', inplace=True)  # Normalize 'harley-davidson'\n",
    "df['Make'].replace(['IVECO FORD', 'IVECO-FORD', 'IVECO FORD', 'IVECO-FORD', 'iveco ford', 'iveco-ford'], 'iveco-ford', inplace=True)  # Normalize 'iveco-ford'\n",
    "df['Make'].replace(['JCB', 'JCB '], 'jcb', inplace=True)  # Normalize 'jcb'\n",
    "\n",
    "# Save the DataFrame to a new CSV file\n",
    "df.to_csv(output_csv_file, index=False)\n",
    "\n",
    "print(f\"Normalized data saved to {output_csv_file}\")\n"
   ]
  },
  {
   "cell_type": "code",
   "execution_count": 5,
   "metadata": {},
   "outputs": [
    {
     "name": "stdout",
     "output_type": "stream",
     "text": [
      "First 200,000 rows copied to /Users/femisokoya/Documents/GitHub/Vehicle-licensing-statistics/result1.csv\n"
     ]
    }
   ],
   "source": [
    "import pandas as pd\n",
    "\n",
    "# Define the input and output file paths\n",
    "input_csv_file = \"/Users/femisokoya/Documents/GitHub/Vehicle-licensing-statistics/result3_headers.csv\"\n",
    "output_csv_file = \"/Users/femisokoya/Documents/GitHub/Vehicle-licensing-statistics/result1.csv\"\n",
    "\n",
    "# Read the first 200,000 rows from the input CSV file\n",
    "df = pd.read_csv(input_csv_file, nrows=200000)\n",
    "\n",
    "# Save the first 200,000 rows to the output CSV file\n",
    "df.to_csv(output_csv_file, index=False)\n",
    "\n",
    "print(f\"First 200,000 rows copied to {output_csv_file}\")\n"
   ]
  }
 ],
 "metadata": {
  "kernelspec": {
   "display_name": "Python 3",
   "language": "python",
   "name": "python3"
  },
  "language_info": {
   "codemirror_mode": {
    "name": "ipython",
    "version": 3
   },
   "file_extension": ".py",
   "mimetype": "text/x-python",
   "name": "python",
   "nbconvert_exporter": "python",
   "pygments_lexer": "ipython3",
   "version": "3.11.2"
  },
  "orig_nbformat": 4
 },
 "nbformat": 4,
 "nbformat_minor": 2
}
