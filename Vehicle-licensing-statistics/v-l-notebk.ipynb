{
 "cells": [
  {
   "cell_type": "code",
   "execution_count": 1,
   "metadata": {},
   "outputs": [
    {
     "name": "stdout",
     "output_type": "stream",
     "text": [
      "Number of rows in the CSV file: 16604726\n"
     ]
    }
   ],
   "source": [
    "import pandas as pd\n",
    "\n",
    "# Define the path to your CSV file\n",
    "csv_file_path = \"/Users/femisokoya/Documents/GitHub/Vehicle-licensing-statistics/result.csv\"  # Replace with the actual path to your CSV file\n",
    "\n",
    "# Read the CSV file into a DataFrame\n",
    "df = pd.read_csv(csv_file_path)\n",
    "\n",
    "# Calculate the number of rows\n",
    "num_rows = len(df)\n",
    "\n",
    "# Print the result\n",
    "print(f\"Number of rows in the CSV file: {num_rows}\")"
   ]
  },
  {
   "cell_type": "code",
   "execution_count": 7,
   "metadata": {},
   "outputs": [
    {
     "name": "stdout",
     "output_type": "stream",
     "text": [
      "System Memory Configuration:\n",
      "Total RAM: 32.00 GB\n",
      "Available RAM: 14.75 GB\n",
      "Used RAM: 15.41 GB\n",
      "RAM Usage Percentage: 53.9%\n",
      "Total Swap Space: 9.00 GB\n",
      "Used Swap Space: 7.99 GB\n",
      "Free Swap Space: 1.01 GB\n",
      "Swap Usage Percentage: 88.8%\n"
     ]
    }
   ],
   "source": [
    "import psutil\n",
    "\n",
    "# Get system memory information\n",
    "svmem = psutil.virtual_memory()\n",
    "swap = psutil.swap_memory()\n",
    "\n",
    "# Display system memory configuration\n",
    "print(\"System Memory Configuration:\")\n",
    "print(f\"Total RAM: {svmem.total / (1024 ** 3):.2f} GB\")\n",
    "print(f\"Available RAM: {svmem.available / (1024 ** 3):.2f} GB\")\n",
    "print(f\"Used RAM: {svmem.used / (1024 ** 3):.2f} GB\")\n",
    "print(f\"RAM Usage Percentage: {svmem.percent}%\")\n",
    "print(f\"Total Swap Space: {swap.total / (1024 ** 3):.2f} GB\")\n",
    "print(f\"Used Swap Space: {swap.used / (1024 ** 3):.2f} GB\")\n",
    "print(f\"Free Swap Space: {swap.free / (1024 ** 3):.2f} GB\")\n",
    "print(f\"Swap Usage Percentage: {swap.percent}%\")\n"
   ]
  },
  {
   "cell_type": "code",
   "execution_count": 5,
   "metadata": {},
   "outputs": [
    {
     "name": "stdout",
     "output_type": "stream",
     "text": [
      "Pivot operation completed. Number of rows in result.csv: 9738273\n"
     ]
    }
   ],
   "source": [
    "import pandas as pd\n",
    "\n",
    "# Define the file path\n",
    "file_path = \"/Users/femisokoya/Documents/GitHub/Vehicle-licensing-statistics/result.csv\"  # Replace with the actual path to your CSV file\n",
    "\n",
    "# Read the CSV file into a DataFrame\n",
    "df = pd.read_csv(file_path)\n",
    "\n",
    "# Rename the column 'Value[' to 'Value'\n",
    "df.rename(columns={'Value[\"': 'Value'}, inplace=True)\n",
    "\n",
    "# Specify the subset of columns for dropping duplicates\n",
    "subset_columns = [\"BodyType\", \"Make\", \"GenModel\", \"Model\", \"Fuel\", \"LicenceStatus\", \"Period\"]\n",
    "\n",
    "# Remove duplicate rows based on the specified subset of columns\n",
    "df.drop_duplicates(subset=subset_columns, inplace=True)\n",
    "\n",
    "# Pivot the DataFrame\n",
    "pivot_df = df.pivot(values=\"Value\", columns=\"LicenceStatus\", index=[\"BodyType\", \"Make\", \"GenModel\", \"Model\", \"Fuel\", \"Period\"])\n",
    "\n",
    "# Save the pivot result to a new CSV file\n",
    "pivot_df.to_csv(\"result.csv\")\n",
    "\n",
    "# Calculate the number of rows in the resulting DataFrame\n",
    "num_rows_result = len(pivot_df)\n",
    "\n",
    "print(f\"Pivot operation completed. Number of rows in result.csv: {num_rows_result}\")\n"
   ]
  },
  {
   "cell_type": "code",
   "execution_count": null,
   "metadata": {},
   "outputs": [],
   "source": []
  },
  {
   "cell_type": "code",
   "execution_count": 5,
   "metadata": {},
   "outputs": [
    {
     "name": "stdout",
     "output_type": "stream",
     "text": [
      "Conversion completed. Result saved to: /Users/femisokoya/Documents/GitHub/Vehicle-licensing-statistics/result3_headers.csv\n"
     ]
    }
   ],
   "source": [
    "import pandas as pd\n",
    "\n",
    "# Define the file path for the input CSV\n",
    "input_csv_path = '/Users/femisokoya/Documents/GitHub/Vehicle-licensing-statistics/result.csv'\n",
    "\n",
    "# Read the CSV file into a DataFrame\n",
    "df = pd.read_csv(input_csv_path)\n",
    "\n",
    "# Remove leading and trailing spaces from column headers\n",
    "df.columns = df.columns.str.strip()\n",
    "\n",
    "# Convert the \"Licensed\" and \"SORN\" columns to strings\n",
    "df['Licensed'] = df['Licensed'].astype(str)\n",
    "df['SORN'] = df['SORN'].astype(str)\n",
    "\n",
    "# Clean the \"Licensed\" and \"SORN\" columns to remove non-integer characters\n",
    "df['Licensed'] = df['Licensed'].str.replace(r'\\D', '', regex=True)\n",
    "df['SORN'] = df['SORN'].str.replace(r'\\D', '', regex=True)\n",
    "\n",
    "# Replace empty strings with 0 in \"Licensed\" and \"SORN\" columns\n",
    "df['Licensed'].replace('', '0', inplace=True)\n",
    "df['SORN'].replace('', '0', inplace=True)\n",
    "\n",
    "# Convert the \"Licensed\" and \"SORN\" columns to integers\n",
    "df['Licensed'] = df['Licensed'].astype(int)\n",
    "df['SORN'] = df['SORN'].astype(int)\n",
    "\n",
    "# Define the file path for the output CSV\n",
    "output_csv_path = '/Users/femisokoya/Documents/GitHub/Vehicle-licensing-statistics/result3_headers.csv'\n",
    "\n",
    "# Save the updated DataFrame to a new CSV file\n",
    "df.to_csv(output_csv_path, index=False)\n",
    "\n",
    "print(\"Conversion completed. Result saved to:\", output_csv_path)\n"
   ]
  }
 ],
 "metadata": {
  "kernelspec": {
   "display_name": "Python 3",
   "language": "python",
   "name": "python3"
  },
  "language_info": {
   "codemirror_mode": {
    "name": "ipython",
    "version": 3
   },
   "file_extension": ".py",
   "mimetype": "text/x-python",
   "name": "python",
   "nbconvert_exporter": "python",
   "pygments_lexer": "ipython3",
   "version": "3.11.2"
  },
  "orig_nbformat": 4
 },
 "nbformat": 4,
 "nbformat_minor": 2
}
